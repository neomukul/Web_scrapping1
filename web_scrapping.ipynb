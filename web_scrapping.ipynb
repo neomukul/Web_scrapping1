{
 "cells": [
  {
   "cell_type": "code",
   "execution_count": 278,
   "metadata": {},
   "outputs": [],
   "source": [
    "from bs4 import BeautifulSoup\n",
    "import pandas as pd\n",
    "import json\n",
    "import os\n",
    "import requests"
   ]
  },
  {
   "cell_type": "code",
   "execution_count": 279,
   "metadata": {},
   "outputs": [],
   "source": [
    "url = \"https://www.newegg.com/Video-Cards-Video-Devices/Category/ID-38?Tpk=graphics+card\"\n"
   ]
  },
  {
   "cell_type": "code",
   "execution_count": 280,
   "metadata": {},
   "outputs": [],
   "source": [
    "# Open the URL and grabbing the content\n",
    "page = requests.get(url)\n",
    "html_contents = page.text"
   ]
  },
  {
   "cell_type": "code",
   "execution_count": 281,
   "metadata": {},
   "outputs": [],
   "source": [
    "# parsing the downloaded page html\n",
    "soup = BeautifulSoup(html_contents, \"html.parser\")"
   ]
  },
  {
   "cell_type": "code",
   "execution_count": 282,
   "metadata": {},
   "outputs": [
    {
     "data": {
      "text/plain": [
       "12"
      ]
     },
     "execution_count": 282,
     "metadata": {},
     "output_type": "execute_result"
    }
   ],
   "source": [
    "# grabing each product\n",
    "containers = soup.find_all(\"div\",{\"class\": \"item-container\"})\n",
    "len(containers)"
   ]
  },
  {
   "cell_type": "code",
   "execution_count": 283,
   "metadata": {},
   "outputs": [],
   "source": [
    "container = containers[0]"
   ]
  },
  {
   "cell_type": "code",
   "execution_count": 284,
   "metadata": {},
   "outputs": [],
   "source": [
    "shipping = container.findAll(\"p\",{\"class\":\"item-promo\"})"
   ]
  },
  {
   "cell_type": "code",
   "execution_count": 285,
   "metadata": {},
   "outputs": [
    {
     "data": {
      "text/plain": [
       "'+ $20 off w/ promo code VGAQWMS23, limited offer'"
      ]
     },
     "execution_count": 285,
     "metadata": {},
     "output_type": "execute_result"
    }
   ],
   "source": [
    "s = shipping[0].text\n",
    "s"
   ]
  },
  {
   "cell_type": "code",
   "execution_count": 298,
   "metadata": {},
   "outputs": [
    {
     "data": {
      "text/plain": [
       "40"
      ]
     },
     "execution_count": 298,
     "metadata": {},
     "output_type": "execute_result"
    }
   ],
   "source": [
    "filename = \"product.csv\"\n",
    "f = open(filename,\"w\")\n",
    "\n",
    "headers = \"Brand,product name, shipping type,offer\\n\"\n",
    "f.write(headers)"
   ]
  },
  {
   "cell_type": "code",
   "execution_count": 299,
   "metadata": {},
   "outputs": [
    {
     "name": "stdout",
     "output_type": "stream",
     "text": [
      "brand:MSI\n",
      "product_name:MSI GeForce RTX 2060 DirectX 12 RTX 2060 VENTUS XS 6G OC Video Card\n",
      "shipping_type:Free Shipping\n",
      "All offer:+ $20 off w/ promo code VGAQWMS23, limited offer\n",
      "brand:EVGA\n",
      "product_name:EVGA GeForce GTX 1660 Ti XC GAMING, 06G-P4-1263-KR, 6GB GDDR6, HDB Fan\n",
      "shipping_type:$3.99 Shipping\n",
      "All offer:Get Grip Game + EVGA Vehicle Skin w/ purchase, while supplies last\n",
      "brand:GIGABYTE\n",
      "product_name:GIGABYTE GeForce RTX 2080 SUPER DirectX 12 GV-N208SGAMINGOC WB-8GD Video Card\n",
      "shipping_type:Free Shipping\n",
      "All offer:Buy GeForce RTX, get Death Stranding, while supplies last\n",
      "brand:GIGABYTE\n",
      "product_name:GIGABYTE GeForce RTX 2070 Super GAMING OC 3X 8G Graphics Card, GV-N207SGAMING OC-8GD\n",
      "shipping_type:Free Shipping\n",
      "All offer:+ $20 off w/ promo code VGAERGBT22, limited offer\n",
      "brand:GIGABYTE\n",
      "product_name:GIGABYTE GeForce RTX 2070 DirectX 12 GV-N2070WF2-8GD Video Card\n",
      "shipping_type:Free Shipping\n",
      "All offer:+ $15 off w/ promo code GBTVGAFS39, limited offer\n",
      "brand:ASUS\n",
      "product_name:ASUS ROG Strix Radeon RX 5700 XT ROG-STRIX-RX5700XT-O8G-GAMING Video Card\n",
      "shipping_type:Free Shipping\n",
      "All offer:Free Godfall and World of Warcraft: Shadowlands w/ purchase, limited offer\n",
      "brand:MSI\n",
      "product_name:MSI GeForce GTX 1660 SUPER DirectX 12 GTX 1660 SUPER VENTUS XS OC Video Card\n",
      "shipping_type:Free Shipping\n",
      "All offer:+ $12 off w/ promo code VGAQWMS22, limited offer\n",
      "brand:EVGA\n",
      "product_name:EVGA GeForce RTX 2080 SUPER KO GAMING Video Card, 08G-P4-2083-KR, 8GB GDDR6, Dual Fans\n",
      "shipping_type:Free Shipping\n",
      "All offer:Buy GeForce RTX, get Death Stranding, while supplies last\n",
      "brand:Sapphire Tech\n",
      "product_name:SAPPHIRE PULSE Radeon RX 5700 XT 100416P8GL Video Card\n",
      "shipping_type:Free Shipping\n",
      "All offer:+ $15 off w/ promo code VGAPCJY425, limited offer\n",
      "brand:XFX\n",
      "product_name:XFX Radeon RX 5600 XT RX-56XT6DF46 Video Card THICC II PRO-14GBPS 6GB BOOST UP TO 1620M D6  3xDP HDMI\n",
      "shipping_type:Free Shipping\n",
      "All offer:Free Godfall and World of Warcraft: Shadowlands w/ purchase, limited offer\n",
      "brand:ASRock\n",
      "product_name:ASRock Radeon RX 5700 XT DirectX 12 RX 5700 XT TAICHI X 8G OC+ Video Card\n",
      "shipping_type:$3.99 Shipping\n",
      "All offer:Free Godfall + ASRock X10 IoT Router w/ purchase, limited offer\n",
      "brand:GIGABYTE\n",
      "product_name:GIGABYTE Radeon RX 5600 XT WINDFORCE OC 6G Graphics Card, 2 x WINDFORCE Fans, 6GB 192-Bit GDDR6, GV-R56XTWF2OC-6GD Video Card\n",
      "shipping_type:Free Shipping\n",
      "All offer:+ $5 off w/ promo code VGAERGBT26, limited offer\n"
     ]
    }
   ],
   "source": [
    "for container in containers:\n",
    "    brand = container.div.div.a.img[\"title\"]\n",
    "    \n",
    "    title = container.findAll(\"a\",{\"class\":\"item-title\"})\n",
    "    product_name = title[0].text\n",
    "    \n",
    "    shipping = container.findAll(\"li\",{\"class\":\"price-ship\"})\n",
    "    shipping_type = shipping[0].text\n",
    "    \n",
    "    #price = container.findAll(\"li\",{\"class\":\"price-current\"})\n",
    "    #s = price[0].text\n",
    "    #final = s[:7]\n",
    "    \n",
    "    offer = container.findAll(\"p\",{\"class\":\"item-promo\"})\n",
    "    all_offer= offer[0].text\n",
    "    \n",
    "    \n",
    "    print(\"brand:\" + brand)\n",
    "    print(\"product_name:\" + product_name)\n",
    "    print(\"shipping_type:\" + shipping_type)\n",
    "    #print(\"Price on site:\" + final)\n",
    "    print(\"All offer:\" + all_offer)\n",
    "    \n",
    "    f.write(brand + ',' +product_name.replace(',',\" \")+  ',' +shipping_type+ ',' + all_offer +\"\\n\")\n",
    "\n",
    "    \n",
    "f.close()"
   ]
  },
  {
   "cell_type": "code",
   "execution_count": 290,
   "metadata": {},
   "outputs": [
    {
     "name": "stdout",
     "output_type": "stream",
     "text": [
      " Absctract.docx                      Final.csv\r\n",
      " Application.docx                    Final_mod.ipynb\r\n",
      " \u001b[0m\u001b[01;34mAssign_4\u001b[0m/                           Kofluence_Task.odt\r\n",
      "\u001b[01;34m'Assignment 4 (3)'\u001b[0m/                  Kofluence_Task.pdf\r\n",
      " \u001b[01;34mBank_task\u001b[0m/                          Kofl_web_scrapping.ipynb\r\n",
      "'Data Science Internship Task.pdf'   product.csv\r\n",
      " DS.odt                              \u001b[01;34mSaarthi\u001b[0m/\r\n",
      " DS_ROC.odt                          Sol_bank.py\r\n",
      " file_1                              \u001b[01;34mSpark\u001b[0m/\r\n"
     ]
    }
   ],
   "source": [
    "ls"
   ]
  },
  {
   "cell_type": "code",
   "execution_count": 243,
   "metadata": {},
   "outputs": [],
   "source": []
  },
  {
   "cell_type": "code",
   "execution_count": null,
   "metadata": {},
   "outputs": [],
   "source": []
  }
 ],
 "metadata": {
  "kernelspec": {
   "display_name": "Python 3",
   "language": "python",
   "name": "python3"
  },
  "language_info": {
   "codemirror_mode": {
    "name": "ipython",
    "version": 3
   },
   "file_extension": ".py",
   "mimetype": "text/x-python",
   "name": "python",
   "nbconvert_exporter": "python",
   "pygments_lexer": "ipython3",
   "version": "3.8.2"
  }
 },
 "nbformat": 4,
 "nbformat_minor": 4
}
